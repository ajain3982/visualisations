{
 "cells": [
  {
   "cell_type": "code",
   "execution_count": 1,
   "metadata": {
    "collapsed": true
   },
   "outputs": [],
   "source": [
    "import pandas as pd\n",
    "import numpy as np\n",
    "import matplotlib \n",
    "%matplotlib inline\n",
    "\n",
    "import matplotlib.pyplot as plt\n",
    "import seaborn as sns"
   ]
  },
  {
   "cell_type": "code",
   "execution_count": 27,
   "metadata": {},
   "outputs": [
    {
     "data": {
      "text/html": [
       "<div>\n",
       "<style>\n",
       "    .dataframe thead tr:only-child th {\n",
       "        text-align: right;\n",
       "    }\n",
       "\n",
       "    .dataframe thead th {\n",
       "        text-align: left;\n",
       "    }\n",
       "\n",
       "    .dataframe tbody tr th {\n",
       "        vertical-align: top;\n",
       "    }\n",
       "</style>\n",
       "<table border=\"1\" class=\"dataframe\">\n",
       "  <thead>\n",
       "    <tr style=\"text-align: right;\">\n",
       "      <th></th>\n",
       "      <th>State</th>\n",
       "      <th>District</th>\n",
       "      <th>Persons</th>\n",
       "      <th>Males</th>\n",
       "      <th>Females</th>\n",
       "      <th>Growth..1991...2001.</th>\n",
       "      <th>Rural</th>\n",
       "      <th>Urban</th>\n",
       "      <th>Scheduled.Caste.population</th>\n",
       "      <th>Percentage...SC.to.total</th>\n",
       "      <th>...</th>\n",
       "      <th>Medical.facility</th>\n",
       "      <th>Primary.Health.Centre</th>\n",
       "      <th>Primary.Health.Sub.Centre</th>\n",
       "      <th>Post..telegraph.and.telephone.facility</th>\n",
       "      <th>Bus.services</th>\n",
       "      <th>Paved.approach.road</th>\n",
       "      <th>Mud.approach.road</th>\n",
       "      <th>Permanent.House</th>\n",
       "      <th>Semi.permanent.House</th>\n",
       "      <th>Temporary.House</th>\n",
       "    </tr>\n",
       "  </thead>\n",
       "  <tbody>\n",
       "    <tr>\n",
       "      <th>0</th>\n",
       "      <td>AN</td>\n",
       "      <td>District Andamans (01), Andaman &amp; Nicobar Isla...</td>\n",
       "      <td>314084</td>\n",
       "      <td>170319</td>\n",
       "      <td>143765</td>\n",
       "      <td>30.14</td>\n",
       "      <td>197886</td>\n",
       "      <td>116198</td>\n",
       "      <td>-</td>\n",
       "      <td>-</td>\n",
       "      <td>...</td>\n",
       "      <td>102</td>\n",
       "      <td>16</td>\n",
       "      <td>78</td>\n",
       "      <td>161.0</td>\n",
       "      <td>187</td>\n",
       "      <td>201</td>\n",
       "      <td>243</td>\n",
       "      <td>28.7</td>\n",
       "      <td>39.1</td>\n",
       "      <td>32.0</td>\n",
       "    </tr>\n",
       "    <tr>\n",
       "      <th>1</th>\n",
       "      <td>AN</td>\n",
       "      <td>District Nicobars (02), Andaman &amp; Nicobar Isla...</td>\n",
       "      <td>42068</td>\n",
       "      <td>22653</td>\n",
       "      <td>19415</td>\n",
       "      <td>7.19</td>\n",
       "      <td>42068</td>\n",
       "      <td>-</td>\n",
       "      <td>-</td>\n",
       "      <td>-</td>\n",
       "      <td>...</td>\n",
       "      <td>38</td>\n",
       "      <td>4</td>\n",
       "      <td>31</td>\n",
       "      <td>36.0</td>\n",
       "      <td>49</td>\n",
       "      <td>51</td>\n",
       "      <td>111</td>\n",
       "      <td>28.0</td>\n",
       "      <td>33.3</td>\n",
       "      <td>38.7</td>\n",
       "    </tr>\n",
       "    <tr>\n",
       "      <th>2</th>\n",
       "      <td>Andhra</td>\n",
       "      <td>District Adilabad (01), Andhra Pradesh (28)</td>\n",
       "      <td>2488003</td>\n",
       "      <td>1250958</td>\n",
       "      <td>1237045</td>\n",
       "      <td>19.06</td>\n",
       "      <td>1827986</td>\n",
       "      <td>NaN</td>\n",
       "      <td>NaN</td>\n",
       "      <td>NaN</td>\n",
       "      <td>...</td>\n",
       "      <td>976</td>\n",
       "      <td>61</td>\n",
       "      <td>432</td>\n",
       "      <td>558.0</td>\n",
       "      <td>814</td>\n",
       "      <td>979</td>\n",
       "      <td>544</td>\n",
       "      <td>53.0</td>\n",
       "      <td>39.9</td>\n",
       "      <td>7.0</td>\n",
       "    </tr>\n",
       "    <tr>\n",
       "      <th>3</th>\n",
       "      <td>Andhra</td>\n",
       "      <td>District Nizamabad (02), Andhra Pradesh (28)</td>\n",
       "      <td>2345685</td>\n",
       "      <td>1162905</td>\n",
       "      <td>1182780</td>\n",
       "      <td>14.98</td>\n",
       "      <td>1920947</td>\n",
       "      <td>NaN</td>\n",
       "      <td>NaN</td>\n",
       "      <td>NaN</td>\n",
       "      <td>...</td>\n",
       "      <td>614</td>\n",
       "      <td>50</td>\n",
       "      <td>330</td>\n",
       "      <td>602.0</td>\n",
       "      <td>746</td>\n",
       "      <td>760</td>\n",
       "      <td>82</td>\n",
       "      <td>52.8</td>\n",
       "      <td>37.6</td>\n",
       "      <td>9.6</td>\n",
       "    </tr>\n",
       "    <tr>\n",
       "      <th>4</th>\n",
       "      <td>Andhra</td>\n",
       "      <td>District Karimnagar (03), Andhra Pradesh (28)</td>\n",
       "      <td>3491822</td>\n",
       "      <td>1747968</td>\n",
       "      <td>1743854</td>\n",
       "      <td>14.47</td>\n",
       "      <td>2813010</td>\n",
       "      <td>NaN</td>\n",
       "      <td>NaN</td>\n",
       "      <td>NaN</td>\n",
       "      <td>...</td>\n",
       "      <td>863</td>\n",
       "      <td>70</td>\n",
       "      <td>475</td>\n",
       "      <td>795.0</td>\n",
       "      <td>912</td>\n",
       "      <td>823</td>\n",
       "      <td>218</td>\n",
       "      <td>55.8</td>\n",
       "      <td>36.4</td>\n",
       "      <td>7.8</td>\n",
       "    </tr>\n",
       "  </tbody>\n",
       "</table>\n",
       "<p>5 rows × 81 columns</p>\n",
       "</div>"
      ],
      "text/plain": [
       "    State                                           District  Persons  \\\n",
       "0      AN  District Andamans (01), Andaman & Nicobar Isla...   314084   \n",
       "1      AN  District Nicobars (02), Andaman & Nicobar Isla...    42068   \n",
       "2  Andhra        District Adilabad (01), Andhra Pradesh (28)  2488003   \n",
       "3  Andhra       District Nizamabad (02), Andhra Pradesh (28)  2345685   \n",
       "4  Andhra      District Karimnagar (03), Andhra Pradesh (28)  3491822   \n",
       "\n",
       "     Males  Females Growth..1991...2001.    Rural   Urban  \\\n",
       "0   170319   143765                30.14   197886  116198   \n",
       "1    22653    19415                 7.19    42068       -   \n",
       "2  1250958  1237045                19.06  1827986     NaN   \n",
       "3  1162905  1182780                14.98  1920947     NaN   \n",
       "4  1747968  1743854                14.47  2813010     NaN   \n",
       "\n",
       "  Scheduled.Caste.population Percentage...SC.to.total       ...         \\\n",
       "0                          -                        -       ...          \n",
       "1                          -                        -       ...          \n",
       "2                        NaN                      NaN       ...          \n",
       "3                        NaN                      NaN       ...          \n",
       "4                        NaN                      NaN       ...          \n",
       "\n",
       "   Medical.facility  Primary.Health.Centre  Primary.Health.Sub.Centre  \\\n",
       "0               102                     16                         78   \n",
       "1                38                      4                         31   \n",
       "2               976                     61                        432   \n",
       "3               614                     50                        330   \n",
       "4               863                     70                        475   \n",
       "\n",
       "   Post..telegraph.and.telephone.facility Bus.services Paved.approach.road  \\\n",
       "0                                   161.0          187                 201   \n",
       "1                                    36.0           49                  51   \n",
       "2                                   558.0          814                 979   \n",
       "3                                   602.0          746                 760   \n",
       "4                                   795.0          912                 823   \n",
       "\n",
       "   Mud.approach.road  Permanent.House  Semi.permanent.House  Temporary.House  \n",
       "0                243             28.7                  39.1             32.0  \n",
       "1                111             28.0                  33.3             38.7  \n",
       "2                544             53.0                  39.9              7.0  \n",
       "3                 82             52.8                  37.6              9.6  \n",
       "4                218             55.8                  36.4              7.8  \n",
       "\n",
       "[5 rows x 81 columns]"
      ]
     },
     "execution_count": 27,
     "metadata": {},
     "output_type": "execute_result"
    }
   ],
   "source": [
    "data = pd.read_csv(\"data.csv\").drop(['Unnamed: 0'],axis=1)\n",
    "data.head()"
   ]
  },
  {
   "cell_type": "markdown",
   "metadata": {},
   "source": [
    "## Cleaning Dataset"
   ]
  },
  {
   "cell_type": "markdown",
   "metadata": {},
   "source": [
    "The dataset contains abbreviated state names, so first of all let's convert them to full forms. The abbreviated states are mentioned on Kaggle [here](https://www.kaggle.com/bazuka/census2001)."
   ]
  },
  {
   "cell_type": "code",
   "execution_count": 29,
   "metadata": {},
   "outputs": [
    {
     "name": "stderr",
     "output_type": "stream",
     "text": [
      "/Users/dexter/anaconda3/envs/DAND/lib/python2.7/site-packages/ipykernel/__main__.py:9: SettingWithCopyWarning: \n",
      "A value is trying to be set on a copy of a slice from a DataFrame\n",
      "\n",
      "See the caveats in the documentation: http://pandas.pydata.org/pandas-docs/stable/indexing.html#indexing-view-versus-copy\n"
     ]
    }
   ],
   "source": [
    "abb_st = ['AN','Andhra','CG','D_D','D_N_H','HP','JK','MP','TN','UP','WB']\n",
    "full_names = ['Andaman & Nicobar Islands','Andhra Pradesh','Chattisgarh','Daman & Diu','Dadra & Nagar Haveli','Himachal Pradesh','Jammu & Kashmir','Madhya Pradesh'\n",
    "             ,'Tamil Nadu','Uttar Pradesh','West Bengal']\n",
    "\n",
    "states = data['State']\n",
    "for i in range(states.shape[0]):\n",
    "    if states[i] in abb_st:\n",
    "        #print abb_st.index(states[i])\n",
    "        states[i] = full_names[abb_st.index(states[i])]\n",
    "data['State'] = states"
   ]
  },
  {
   "cell_type": "markdown",
   "metadata": {},
   "source": [
    "#### Checking null values if any"
   ]
  },
  {
   "cell_type": "code",
   "execution_count": 32,
   "metadata": {},
   "outputs": [
    {
     "data": {
      "text/plain": [
       "Scheduled.Caste.population                563\n",
       "Percentage...SC.to.total                  562\n",
       "Urban                                     522\n",
       "Electricity..Agriculture.                 208\n",
       "Imp.Town.3.Name                           142\n",
       "Imp.Town.3.Population                     108\n",
       "Imp.Town.2.Name                            97\n",
       "SC.3.Name                                  66\n",
       "Imp.Town.2.Population                      64\n",
       "SC.2.Name                                  64\n",
       "Religeon.3.Name                            53\n",
       "ST.2.Population                            53\n",
       "Religeon.2.Name                            53\n",
       "Religeon.1.Name                            53\n",
       "College                                    52\n",
       "ST.3.Population                            52\n",
       "ST.1.Population                            51\n",
       "SC.1.Name                                  51\n",
       "ST.2.Name                                  50\n",
       "ST.3.Name                                  50\n",
       "Imp.Town.1.Name                            21\n",
       "Imp.Town.1.Population                      14\n",
       "SC.3.Population                            13\n",
       "SC.1.Population                            13\n",
       "SC.2.Population                            13\n",
       "Medical.facility                           12\n",
       "Paved.approach.road                        12\n",
       "Post..telegraph.and.telephone.facility     12\n",
       "Primary.Health.Sub.Centre                  12\n",
       "Mud.approach.road                          12\n",
       "                                         ... \n",
       "Percentage.to.total.population..ST.         3\n",
       "X0...4.years                                3\n",
       "X5...14.years                               3\n",
       "X15...59.years                              3\n",
       "X60.years.and.above..Incl..A.N.S..          3\n",
       "Number.of.households                        3\n",
       "Rural                                       0\n",
       "Growth..1991...2001.                        0\n",
       "Females                                     0\n",
       "Persons..literate                           0\n",
       "Persons                                     0\n",
       "District                                    0\n",
       "Males                                       0\n",
       "Temporary.House                             0\n",
       "Males..Literate                             0\n",
       "Females..Literate                           0\n",
       "Persons..literacy.rate                      0\n",
       "Males..Literatacy.Rate                      0\n",
       "Females..Literacy.Rate                      0\n",
       "Total.workers                               0\n",
       "Main.workers                                0\n",
       "Marginal.workers                            0\n",
       "Non.workers                                 0\n",
       "Semi.permanent.House                        0\n",
       "Religeon.1.Population                       0\n",
       "Religeon.2.Population                       0\n",
       "Religeon.3.Population                       0\n",
       "ST.1.Name                                   0\n",
       "Permanent.House                             0\n",
       "State                                       0\n",
       "Length: 81, dtype: int64"
      ]
     },
     "execution_count": 32,
     "metadata": {},
     "output_type": "execute_result"
    }
   ],
   "source": [
    "data.isnull().sum().sort_values(ascending=False)"
   ]
  },
  {
   "cell_type": "markdown",
   "metadata": {},
   "source": [
    "Since Scheduled.Caste.population, Percentage...SC.to.total,Urban contains most null values, we will drop those columns."
   ]
  },
  {
   "cell_type": "code",
   "execution_count": 33,
   "metadata": {
    "collapsed": true
   },
   "outputs": [],
   "source": [
    "data.drop(['Scheduled.Caste.population', 'Percentage...SC.to.total','Urban'],axis=1,inplace=True)"
   ]
  },
  {
   "cell_type": "code",
   "execution_count": 34,
   "metadata": {},
   "outputs": [
    {
     "data": {
      "text/plain": [
       "Index([u'State', u'District', u'Persons', u'Males', u'Females',\n",
       "       u'Growth..1991...2001.', u'Rural', u'Number.of.households',\n",
       "       u'Household.size..per.household.',\n",
       "       u'Sex.ratio..females.per.1000.males.', u'Sex.ratio..0.6.years.',\n",
       "       u'Scheduled.Tribe.population', u'Percentage.to.total.population..ST.',\n",
       "       u'Persons..literate', u'Males..Literate', u'Females..Literate',\n",
       "       u'Persons..literacy.rate', u'Males..Literatacy.Rate',\n",
       "       u'Females..Literacy.Rate', u'Total.Educated', u'Data.without.level',\n",
       "       u'Below.Primary', u'Primary', u'Middle',\n",
       "       u'Matric.Higher.Secondary.Diploma', u'Graduate.and.Above',\n",
       "       u'X0...4.years', u'X5...14.years', u'X15...59.years',\n",
       "       u'X60.years.and.above..Incl..A.N.S..', u'Total.workers',\n",
       "       u'Main.workers', u'Marginal.workers', u'Non.workers', u'SC.1.Name',\n",
       "       u'SC.1.Population', u'SC.2.Name', u'SC.2.Population', u'SC.3.Name',\n",
       "       u'SC.3.Population', u'Religeon.1.Name', u'Religeon.1.Population',\n",
       "       u'Religeon.2.Name', u'Religeon.2.Population', u'Religeon.3.Name',\n",
       "       u'Religeon.3.Population', u'ST.1.Name', u'ST.1.Population',\n",
       "       u'ST.2.Name', u'ST.2.Population', u'ST.3.Name', u'ST.3.Population',\n",
       "       u'Imp.Town.1.Name', u'Imp.Town.1.Population', u'Imp.Town.2.Name',\n",
       "       u'Imp.Town.2.Population', u'Imp.Town.3.Name', u'Imp.Town.3.Population',\n",
       "       u'Total.Inhabited.Villages', u'Drinking.water.facilities',\n",
       "       u'Safe.Drinking.water', u'Electricity..Power.Supply.',\n",
       "       u'Electricity..domestic.', u'Electricity..Agriculture.',\n",
       "       u'Primary.school', u'Middle.schools', u'Secondary.Sr.Secondary.schools',\n",
       "       u'College', u'Medical.facility', u'Primary.Health.Centre',\n",
       "       u'Primary.Health.Sub.Centre', u'Post..telegraph.and.telephone.facility',\n",
       "       u'Bus.services', u'Paved.approach.road', u'Mud.approach.road',\n",
       "       u'Permanent.House', u'Semi.permanent.House', u'Temporary.House'],\n",
       "      dtype='object')"
      ]
     },
     "execution_count": 34,
     "metadata": {},
     "output_type": "execute_result"
    }
   ],
   "source": [
    "data.columns"
   ]
  },
  {
   "cell_type": "markdown",
   "metadata": {},
   "source": [
    "# ANALYSIS"
   ]
  },
  {
   "cell_type": "markdown",
   "metadata": {},
   "source": [
    "### Total Population state wise"
   ]
  },
  {
   "cell_type": "code",
   "execution_count": 40,
   "metadata": {},
   "outputs": [
    {
     "data": {
      "text/plain": [
       "State\n",
       "Uttar Pradesh                166197921\n",
       "Maharashtra                   96878627\n",
       "Bihar                         82998509\n",
       "West Bengal                   80176197\n",
       "Andhra Pradesh                71308587\n",
       "Tamil Nadu                    62405679\n",
       "Madhya Pradesh                60348023\n",
       "Rajasthan                     56507188\n",
       "Karnataka                     52850562\n",
       "Gujarat                       50671017\n",
       "Orrisa                        35664657\n",
       "Kerala                        31841374\n",
       "Jharkhand                     26945829\n",
       "Assam                         26655528\n",
       "Punjab                        24358999\n",
       "Haryana                       21144564\n",
       "Chattisgarh                   20833803\n",
       "Delhi                         13850507\n",
       "Jammu & Kashmir               10143700\n",
       "Uttranchal                     8489349\n",
       "Himachal Pradesh               6077900\n",
       "Tripura                        3199203\n",
       "Meghalya                       2318822\n",
       "Manipur                        2010275\n",
       "Nagaland                       1990036\n",
       "Goa                            1347668\n",
       "ArunachalPradesh               1097968\n",
       "Pondicherry                     974345\n",
       "Chandigarh                      900635\n",
       "Mizoram                         888573\n",
       "Sikkim                          540851\n",
       "Andaman & Nicobar Islands       356152\n",
       "Dadra & Nagar Haveli            220490\n",
       "Daman & Diu                     158204\n",
       "Lakshdweep                       60650\n",
       "Name: Persons, dtype: int64"
      ]
     },
     "execution_count": 40,
     "metadata": {},
     "output_type": "execute_result"
    }
   ],
   "source": [
    "data.groupby(['State']).sum()['Persons'].sort_values(ascending=False)"
   ]
  },
  {
   "cell_type": "markdown",
   "metadata": {},
   "source": [
    "### Total Districts in Each State"
   ]
  },
  {
   "cell_type": "code",
   "execution_count": 45,
   "metadata": {},
   "outputs": [
    {
     "data": {
      "text/plain": [
       "State\n",
       "Uttar Pradesh                70\n",
       "Madhya Pradesh               45\n",
       "Bihar                        37\n",
       "Maharashtra                  35\n",
       "Rajasthan                    32\n",
       "Tamil Nadu                   30\n",
       "Orrisa                       29\n",
       "Karnataka                    27\n",
       "Gujarat                      25\n",
       "Assam                        23\n",
       "Andhra Pradesh               22\n",
       "Haryana                      19\n",
       "West Bengal                  18\n",
       "Jharkhand                    18\n",
       "Punjab                       17\n",
       "Chattisgarh                  16\n",
       "Jammu & Kashmir              14\n",
       "Kerala                       14\n",
       "Uttranchal                   13\n",
       "ArunachalPradesh             13\n",
       "Himachal Pradesh             12\n",
       "Delhi                         9\n",
       "Manipur                       8\n",
       "Mizoram                       8\n",
       "Nagaland                      8\n",
       "Meghalya                      7\n",
       "Pondicherry                   4\n",
       "Tripura                       4\n",
       "Sikkim                        4\n",
       "Daman & Diu                   2\n",
       "Goa                           2\n",
       "Andaman & Nicobar Islands     2\n",
       "Chandigarh                    1\n",
       "Dadra & Nagar Haveli          1\n",
       "Lakshdweep                    1\n",
       "Name: District, dtype: int64"
      ]
     },
     "execution_count": 45,
     "metadata": {},
     "output_type": "execute_result"
    }
   ],
   "source": [
    "data.groupby(['State']).count()['District'].sort_values(ascending=False)"
   ]
  },
  {
   "cell_type": "markdown",
   "metadata": {},
   "source": [
    "What we can see here is state with more districts has more populations."
   ]
  },
  {
   "cell_type": "markdown",
   "metadata": {},
   "source": [
    "### Most populated district of each state"
   ]
  },
  {
   "cell_type": "code",
   "execution_count": 60,
   "metadata": {},
   "outputs": [],
   "source": [
    "sorted_d = data.sort_values('Persons',ascending=False)\n",
    "sorted_d = sorted_d.groupby('State').first()"
   ]
  },
  {
   "cell_type": "code",
   "execution_count": 63,
   "metadata": {},
   "outputs": [
    {
     "data": {
      "text/plain": [
       "<matplotlib.axes._subplots.AxesSubplot at 0x10c88dc90>"
      ]
     },
     "execution_count": 63,
     "metadata": {},
     "output_type": "execute_result"
    },
    {
     "data": {
      "image/png": "[encoded data removed]",
      "text/plain": [
       "<matplotlib.figure.Figure at 0x10d7e8550>"
      ]
     },
     "metadata": {},
     "output_type": "display_data"
    }
   ],
   "source": [
    "plt.subplots(figsize=(10,10))\n",
    "sns.barplot(y='District',x='Persons',data=sorted_d)"
   ]
  },
  {
   "cell_type": "code",
   "execution_count": null,
   "metadata": {
    "collapsed": true
   },
   "outputs": [],
   "source": []
  }
 ],
 "metadata": {
  "anaconda-cloud": {},
  "kernelspec": {
   "display_name": "Python [conda env:DAND]",
   "language": "python",
   "name": "conda-env-DAND-py"
  },
  "language_info": {
   "codemirror_mode": {
    "name": "ipython",
    "version": 2
   },
   "file_extension": ".py",
   "mimetype": "text/x-python",
   "name": "python",
   "nbconvert_exporter": "python",
   "pygments_lexer": "ipython2",
   "version": "2.7.13"
  }
 },
 "nbformat": 4,
 "nbformat_minor": 2
}
